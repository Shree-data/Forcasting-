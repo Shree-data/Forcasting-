{
 "cells": [
  {
   "cell_type": "code",
   "execution_count": 11,
   "id": "4462d14e",
   "metadata": {},
   "outputs": [],
   "source": [
    "import pandas as pd\n",
    "import numpy as np\n",
    "\n",
    "import matplotlib.pyplot as plt\n",
    "from matplotlib import pyplot\n",
    "import seaborn as sns"
   ]
  },
  {
   "cell_type": "code",
   "execution_count": 2,
   "id": "7a0fd79e",
   "metadata": {},
   "outputs": [
    {
     "data": {
      "text/html": [
       "<div>\n",
       "<style scoped>\n",
       "    .dataframe tbody tr th:only-of-type {\n",
       "        vertical-align: middle;\n",
       "    }\n",
       "\n",
       "    .dataframe tbody tr th {\n",
       "        vertical-align: top;\n",
       "    }\n",
       "\n",
       "    .dataframe thead th {\n",
       "        text-align: right;\n",
       "    }\n",
       "</style>\n",
       "<table border=\"1\" class=\"dataframe\">\n",
       "  <thead>\n",
       "    <tr style=\"text-align: right;\">\n",
       "      <th></th>\n",
       "      <th>Month</th>\n",
       "      <th>Passengers</th>\n",
       "    </tr>\n",
       "  </thead>\n",
       "  <tbody>\n",
       "    <tr>\n",
       "      <th>0</th>\n",
       "      <td>1995-01-01</td>\n",
       "      <td>112</td>\n",
       "    </tr>\n",
       "    <tr>\n",
       "      <th>1</th>\n",
       "      <td>1995-02-01</td>\n",
       "      <td>118</td>\n",
       "    </tr>\n",
       "    <tr>\n",
       "      <th>2</th>\n",
       "      <td>1995-03-01</td>\n",
       "      <td>132</td>\n",
       "    </tr>\n",
       "    <tr>\n",
       "      <th>3</th>\n",
       "      <td>1995-04-01</td>\n",
       "      <td>129</td>\n",
       "    </tr>\n",
       "    <tr>\n",
       "      <th>4</th>\n",
       "      <td>1995-05-01</td>\n",
       "      <td>121</td>\n",
       "    </tr>\n",
       "  </tbody>\n",
       "</table>\n",
       "</div>"
      ],
      "text/plain": [
       "       Month  Passengers\n",
       "0 1995-01-01         112\n",
       "1 1995-02-01         118\n",
       "2 1995-03-01         132\n",
       "3 1995-04-01         129\n",
       "4 1995-05-01         121"
      ]
     },
     "execution_count": 2,
     "metadata": {},
     "output_type": "execute_result"
    }
   ],
   "source": [
    "airline = pd.read_excel('F:\\Data Science\\Data sets\\\\Airlines.xlsx')\n",
    "airline.head()"
   ]
  },
  {
   "cell_type": "code",
   "execution_count": 3,
   "id": "4ec8c508",
   "metadata": {},
   "outputs": [
    {
     "data": {
      "text/html": [
       "<div>\n",
       "<style scoped>\n",
       "    .dataframe tbody tr th:only-of-type {\n",
       "        vertical-align: middle;\n",
       "    }\n",
       "\n",
       "    .dataframe tbody tr th {\n",
       "        vertical-align: top;\n",
       "    }\n",
       "\n",
       "    .dataframe thead th {\n",
       "        text-align: right;\n",
       "    }\n",
       "</style>\n",
       "<table border=\"1\" class=\"dataframe\">\n",
       "  <thead>\n",
       "    <tr style=\"text-align: right;\">\n",
       "      <th></th>\n",
       "      <th>Passengers</th>\n",
       "    </tr>\n",
       "  </thead>\n",
       "  <tbody>\n",
       "    <tr>\n",
       "      <th>count</th>\n",
       "      <td>96.000000</td>\n",
       "    </tr>\n",
       "    <tr>\n",
       "      <th>mean</th>\n",
       "      <td>213.708333</td>\n",
       "    </tr>\n",
       "    <tr>\n",
       "      <th>std</th>\n",
       "      <td>71.918216</td>\n",
       "    </tr>\n",
       "    <tr>\n",
       "      <th>min</th>\n",
       "      <td>104.000000</td>\n",
       "    </tr>\n",
       "    <tr>\n",
       "      <th>25%</th>\n",
       "      <td>156.000000</td>\n",
       "    </tr>\n",
       "    <tr>\n",
       "      <th>50%</th>\n",
       "      <td>200.000000</td>\n",
       "    </tr>\n",
       "    <tr>\n",
       "      <th>75%</th>\n",
       "      <td>264.750000</td>\n",
       "    </tr>\n",
       "    <tr>\n",
       "      <th>max</th>\n",
       "      <td>413.000000</td>\n",
       "    </tr>\n",
       "  </tbody>\n",
       "</table>\n",
       "</div>"
      ],
      "text/plain": [
       "       Passengers\n",
       "count   96.000000\n",
       "mean   213.708333\n",
       "std     71.918216\n",
       "min    104.000000\n",
       "25%    156.000000\n",
       "50%    200.000000\n",
       "75%    264.750000\n",
       "max    413.000000"
      ]
     },
     "execution_count": 3,
     "metadata": {},
     "output_type": "execute_result"
    }
   ],
   "source": [
    "airline.describe()"
   ]
  },
  {
   "cell_type": "code",
   "execution_count": 4,
   "id": "1fc81519",
   "metadata": {},
   "outputs": [
    {
     "name": "stdout",
     "output_type": "stream",
     "text": [
      "<class 'pandas.core.frame.DataFrame'>\n",
      "RangeIndex: 96 entries, 0 to 95\n",
      "Data columns (total 2 columns):\n",
      " #   Column      Non-Null Count  Dtype         \n",
      "---  ------      --------------  -----         \n",
      " 0   Month       96 non-null     datetime64[ns]\n",
      " 1   Passengers  96 non-null     int64         \n",
      "dtypes: datetime64[ns](1), int64(1)\n",
      "memory usage: 1.6 KB\n"
     ]
    }
   ],
   "source": [
    "airline.info()"
   ]
  },
  {
   "cell_type": "code",
   "execution_count": 5,
   "id": "6824fd0d",
   "metadata": {},
   "outputs": [
    {
     "data": {
      "text/plain": [
       "(96, 2)"
      ]
     },
     "execution_count": 5,
     "metadata": {},
     "output_type": "execute_result"
    }
   ],
   "source": [
    "airline.shape"
   ]
  },
  {
   "cell_type": "code",
   "execution_count": 6,
   "id": "3d6dce55",
   "metadata": {},
   "outputs": [
    {
     "data": {
      "text/plain": [
       "Month         0\n",
       "Passengers    0\n",
       "dtype: int64"
      ]
     },
     "execution_count": 6,
     "metadata": {},
     "output_type": "execute_result"
    }
   ],
   "source": [
    "airline.isnull().sum()"
   ]
  },
  {
   "cell_type": "markdown",
   "id": "fe43e0a2",
   "metadata": {},
   "source": [
    "### Visualization"
   ]
  },
  {
   "cell_type": "code",
   "execution_count": 8,
   "id": "1e866f37",
   "metadata": {},
   "outputs": [
    {
     "data": {
      "image/png": "[encoded data removed]",
      "text/plain": [
       "<Figure size 432x288 with 1 Axes>"
      ]
     },
     "metadata": {
      "needs_background": "light"
     },
     "output_type": "display_data"
    }
   ],
   "source": [
    "airline.plot()\n",
    "pyplot.show()"
   ]
  },
  {
   "cell_type": "code",
   "execution_count": 9,
   "id": "98dab6fd",
   "metadata": {},
   "outputs": [
    {
     "data": {
      "image/png": "[encoded data removed]",
      "text/plain": [
       "<Figure size 432x288 with 2 Axes>"
      ]
     },
     "metadata": {
      "needs_background": "light"
     },
     "output_type": "display_data"
    }
   ],
   "source": [
    "#histogram\n",
    "\n",
    "airline.hist()\n",
    "pyplot.show()"
   ]
  },
  {
   "cell_type": "code",
   "execution_count": 12,
   "id": "8e66128e",
   "metadata": {},
   "outputs": [
    {
     "name": "stderr",
     "output_type": "stream",
     "text": [
      "C:\\Users\\Shriprada\\anaconda3\\lib\\site-packages\\seaborn\\_decorators.py:36: FutureWarning: Pass the following variable as a keyword arg: x. From version 0.12, the only valid positional argument will be `data`, and passing other arguments without an explicit keyword will result in an error or misinterpretation.\n",
      "  warnings.warn(\n"
     ]
    },
    {
     "data": {
      "text/plain": [
       "<AxesSubplot:xlabel='Passengers'>"
      ]
     },
     "execution_count": 12,
     "metadata": {},
     "output_type": "execute_result"
    },
    {
     "data": {
      "image/png": "[encoded data removed]",
      "text/plain": [
       "<Figure size 432x288 with 1 Axes>"
      ]
     },
     "metadata": {
      "needs_background": "light"
     },
     "output_type": "display_data"
    }
   ],
   "source": [
    "sns.boxplot(airline['Passengers'])"
   ]
  },
  {
   "cell_type": "code",
   "execution_count": 14,
   "id": "62546325",
   "metadata": {},
   "outputs": [
    {
     "data": {
      "text/plain": [
       "<AxesSubplot:ylabel='Density'>"
      ]
     },
     "execution_count": 14,
     "metadata": {},
     "output_type": "execute_result"
    },
    {
     "data": {
      "image/png": "[encoded data removed]",
      "text/plain": [
       "<Figure size 432x288 with 1 Axes>"
      ]
     },
     "metadata": {
      "needs_background": "light"
     },
     "output_type": "display_data"
    }
   ],
   "source": [
    "airline['Passengers'].plot(kind='kde')"
   ]
  },
  {
   "cell_type": "code",
   "execution_count": 16,
   "id": "d1912323",
   "metadata": {},
   "outputs": [],
   "source": [
    "# Lag plot\n",
    "from pandas.plotting import lag_plot"
   ]
  },
  {
   "cell_type": "code",
   "execution_count": 18,
   "id": "82311b07",
   "metadata": {},
   "outputs": [
    {
     "data": {
      "image/png": "[encoded data removed]",
      "text/plain": [
       "<Figure size 432x288 with 1 Axes>"
      ]
     },
     "metadata": {
      "needs_background": "light"
     },
     "output_type": "display_data"
    }
   ],
   "source": [
    "lag_plot(airline['Passengers'])\n",
    "pyplot.show()"
   ]
  },
  {
   "cell_type": "markdown",
   "id": "03ae4180",
   "metadata": {},
   "source": [
    "### Forecasting"
   ]
  },
  {
   "cell_type": "code",
   "execution_count": 19,
   "id": "898d9fcf",
   "metadata": {},
   "outputs": [],
   "source": [
    "import warnings\n",
    "import itertools\n",
    "import statsmodels.api as sm"
   ]
  },
  {
   "cell_type": "code",
   "execution_count": 20,
   "id": "8e7da0d9",
   "metadata": {},
   "outputs": [
    {
     "name": "stdout",
     "output_type": "stream",
     "text": [
      "Dataset 86, Validation 10\n"
     ]
    }
   ],
   "source": [
    "# Separate out validation data set\n",
    "split_point = len(airline) - 10\n",
    "dataset, validation = airline[0:split_point], airline[split_point:]\n",
    "print('Dataset %d, Validation %d' % (len(dataset), len(validation)))\n",
    "dataset.to_csv('dataset.csv', header = False)\n",
    "validation.to_csv('validation.csv', header = False)"
   ]
  },
  {
   "cell_type": "markdown",
   "id": "e46b83af",
   "metadata": {},
   "source": [
    "#### Base model"
   ]
  },
  {
   "cell_type": "code",
   "execution_count": 21,
   "id": "fcf6526b",
   "metadata": {},
   "outputs": [],
   "source": [
    "from pandas import read_csv\n",
    "from sklearn.metrics import mean_squared_error\n",
    "from math import sqrt"
   ]
  },
  {
   "cell_type": "code",
   "execution_count": 23,
   "id": "8d4bc5ae",
   "metadata": {},
   "outputs": [
    {
     "name": "stderr",
     "output_type": "stream",
     "text": [
      "C:\\Users\\Shriprada\\AppData\\Local\\Temp\\ipykernel_15852\\586889070.py:1: FutureWarning: The squeeze argument has been deprecated and will be removed in a future version. Append .squeeze(\"columns\") to the call to squeeze.\n",
      "\n",
      "\n",
      "  train = read_csv('dataset.csv', header=None, index_col = 0, parse_dates = True, squeeze =True)\n"
     ]
    }
   ],
   "source": [
    "train = read_csv('dataset.csv', header=None, index_col = 0, parse_dates = True, squeeze =True)\n",
    "x = train.values\n",
    "#x = x.astypes('float32')\n",
    "train_size = int(len(x)* 0.65)\n",
    "train, test = x[0:train_size], x[train_size:]"
   ]
  },
  {
   "cell_type": "markdown",
   "id": "b6129aeb",
   "metadata": {},
   "source": [
    "### Scaling"
   ]
  },
  {
   "cell_type": "code",
   "execution_count": 24,
   "id": "9b1b3ca4",
   "metadata": {},
   "outputs": [],
   "source": [
    "from sklearn.preprocessing import MinMaxScaler"
   ]
  },
  {
   "cell_type": "code",
   "execution_count": 25,
   "id": "71dd0cc6",
   "metadata": {},
   "outputs": [
    {
     "data": {
      "text/plain": [
       "0     112\n",
       "1     118\n",
       "2     132\n",
       "3     129\n",
       "4     121\n",
       "     ... \n",
       "91    405\n",
       "92    355\n",
       "93    306\n",
       "94    271\n",
       "95    306\n",
       "Name: Passengers, Length: 96, dtype: int64"
      ]
     },
     "execution_count": 25,
     "metadata": {},
     "output_type": "execute_result"
    }
   ],
   "source": [
    "airline.iloc[:,1]"
   ]
  },
  {
   "cell_type": "code",
   "execution_count": 26,
   "id": "c5e9f9a4",
   "metadata": {},
   "outputs": [],
   "source": [
    "scaler = MinMaxScaler(feature_range = (0,1))\n",
    "airline = scaler.fit_transform(airline.iloc[:,1:])"
   ]
  },
  {
   "cell_type": "code",
   "execution_count": 27,
   "id": "06fc4065",
   "metadata": {},
   "outputs": [
    {
     "data": {
      "text/plain": [
       "(96, 1)"
      ]
     },
     "execution_count": 27,
     "metadata": {},
     "output_type": "execute_result"
    }
   ],
   "source": [
    "airline.shape"
   ]
  },
  {
   "cell_type": "code",
   "execution_count": 28,
   "id": "893683ee",
   "metadata": {},
   "outputs": [
    {
     "data": {
      "text/plain": [
       "array([[0.02588997],\n",
       "       [0.04530744],\n",
       "       [0.09061489],\n",
       "       [0.08090615],\n",
       "       [0.05501618],\n",
       "       [0.10032362],\n",
       "       [0.14239482],\n",
       "       [0.14239482],\n",
       "       [0.10355987],\n",
       "       [0.04854369],\n",
       "       [0.        ],\n",
       "       [0.04530744],\n",
       "       [0.03559871],\n",
       "       [0.07119741],\n",
       "       [0.1197411 ],\n",
       "       [0.10032362],\n",
       "       [0.06796117],\n",
       "       [0.14563107],\n",
       "       [0.21359223],\n",
       "       [0.21359223],\n",
       "       [0.17475728],\n",
       "       [0.09385113],\n",
       "       [0.03236246],\n",
       "       [0.11650485],\n",
       "       [0.13268608],\n",
       "       [0.14886731],\n",
       "       [0.2394822 ],\n",
       "       [0.19093851],\n",
       "       [0.22006472],\n",
       "       [0.2394822 ],\n",
       "       [0.30744337],\n",
       "       [0.30744337],\n",
       "       [0.25889968],\n",
       "       [0.18770227],\n",
       "       [0.13592233],\n",
       "       [0.20064725],\n",
       "       [0.21682848],\n",
       "       [0.24595469],\n",
       "       [0.28802589],\n",
       "       [0.24919094],\n",
       "       [0.25566343],\n",
       "       [0.36893204],\n",
       "       [0.40776699],\n",
       "       [0.44660194],\n",
       "       [0.33980583],\n",
       "       [0.2815534 ],\n",
       "       [0.22006472],\n",
       "       [0.29126214],\n",
       "       [0.29773463],\n",
       "       [0.29773463],\n",
       "       [0.42718447],\n",
       "       [0.42394822],\n",
       "       [0.40453074],\n",
       "       [0.44983819],\n",
       "       [0.51779935],\n",
       "       [0.54368932],\n",
       "       [0.43042071],\n",
       "       [0.34627832],\n",
       "       [0.24595469],\n",
       "       [0.31391586],\n",
       "       [0.3236246 ],\n",
       "       [0.27184466],\n",
       "       [0.42394822],\n",
       "       [0.39805825],\n",
       "       [0.42071197],\n",
       "       [0.51779935],\n",
       "       [0.6407767 ],\n",
       "       [0.61165049],\n",
       "       [0.50161812],\n",
       "       [0.40453074],\n",
       "       [0.32038835],\n",
       "       [0.40453074],\n",
       "       [0.44660194],\n",
       "       [0.41747573],\n",
       "       [0.52750809],\n",
       "       [0.53398058],\n",
       "       [0.53721683],\n",
       "       [0.6828479 ],\n",
       "       [0.84142395],\n",
       "       [0.78640777],\n",
       "       [0.67313916],\n",
       "       [0.55016181],\n",
       "       [0.43042071],\n",
       "       [0.5631068 ],\n",
       "       [0.58252427],\n",
       "       [0.55987055],\n",
       "       [0.68932039],\n",
       "       [0.6763754 ],\n",
       "       [0.69255663],\n",
       "       [0.87378641],\n",
       "       [1.        ],\n",
       "       [0.97411003],\n",
       "       [0.81229773],\n",
       "       [0.65372168],\n",
       "       [0.54045307],\n",
       "       [0.65372168]])"
      ]
     },
     "execution_count": 28,
     "metadata": {},
     "output_type": "execute_result"
    }
   ],
   "source": [
    "airline"
   ]
  },
  {
   "cell_type": "code",
   "execution_count": 29,
   "id": "3c3c6ba2",
   "metadata": {},
   "outputs": [],
   "source": [
    "training_size = int(len(airline)*0.65)"
   ]
  },
  {
   "cell_type": "code",
   "execution_count": 30,
   "id": "ac84dae2",
   "metadata": {},
   "outputs": [
    {
     "data": {
      "text/plain": [
       "62"
      ]
     },
     "execution_count": 30,
     "metadata": {},
     "output_type": "execute_result"
    }
   ],
   "source": [
    "training_size"
   ]
  },
  {
   "cell_type": "code",
   "execution_count": 31,
   "id": "ef692bc3",
   "metadata": {},
   "outputs": [],
   "source": [
    "test_size = len(airline) - training_size"
   ]
  },
  {
   "cell_type": "code",
   "execution_count": 33,
   "id": "007b7894",
   "metadata": {},
   "outputs": [
    {
     "data": {
      "text/plain": [
       "34"
      ]
     },
     "execution_count": 33,
     "metadata": {},
     "output_type": "execute_result"
    }
   ],
   "source": [
    "test_size"
   ]
  },
  {
   "cell_type": "code",
   "execution_count": 35,
   "id": "4b349a80",
   "metadata": {},
   "outputs": [],
   "source": [
    "train_data, test_data = airline[0:training_size,:], airline[training_size:len(airline),:1]"
   ]
  },
  {
   "cell_type": "code",
   "execution_count": 36,
   "id": "e3c017d2",
   "metadata": {},
   "outputs": [
    {
     "data": {
      "text/plain": [
       "array([[0.02588997],\n",
       "       [0.04530744],\n",
       "       [0.09061489],\n",
       "       [0.08090615],\n",
       "       [0.05501618],\n",
       "       [0.10032362],\n",
       "       [0.14239482],\n",
       "       [0.14239482],\n",
       "       [0.10355987],\n",
       "       [0.04854369],\n",
       "       [0.        ],\n",
       "       [0.04530744],\n",
       "       [0.03559871],\n",
       "       [0.07119741],\n",
       "       [0.1197411 ],\n",
       "       [0.10032362],\n",
       "       [0.06796117],\n",
       "       [0.14563107],\n",
       "       [0.21359223],\n",
       "       [0.21359223],\n",
       "       [0.17475728],\n",
       "       [0.09385113],\n",
       "       [0.03236246],\n",
       "       [0.11650485],\n",
       "       [0.13268608],\n",
       "       [0.14886731],\n",
       "       [0.2394822 ],\n",
       "       [0.19093851],\n",
       "       [0.22006472],\n",
       "       [0.2394822 ],\n",
       "       [0.30744337],\n",
       "       [0.30744337],\n",
       "       [0.25889968],\n",
       "       [0.18770227],\n",
       "       [0.13592233],\n",
       "       [0.20064725],\n",
       "       [0.21682848],\n",
       "       [0.24595469],\n",
       "       [0.28802589],\n",
       "       [0.24919094],\n",
       "       [0.25566343],\n",
       "       [0.36893204],\n",
       "       [0.40776699],\n",
       "       [0.44660194],\n",
       "       [0.33980583],\n",
       "       [0.2815534 ],\n",
       "       [0.22006472],\n",
       "       [0.29126214],\n",
       "       [0.29773463],\n",
       "       [0.29773463],\n",
       "       [0.42718447],\n",
       "       [0.42394822],\n",
       "       [0.40453074],\n",
       "       [0.44983819],\n",
       "       [0.51779935],\n",
       "       [0.54368932],\n",
       "       [0.43042071],\n",
       "       [0.34627832],\n",
       "       [0.24595469],\n",
       "       [0.31391586],\n",
       "       [0.3236246 ],\n",
       "       [0.27184466]])"
      ]
     },
     "execution_count": 36,
     "metadata": {},
     "output_type": "execute_result"
    }
   ],
   "source": [
    "train_data"
   ]
  },
  {
   "cell_type": "code",
   "execution_count": 37,
   "id": "9c11f30a",
   "metadata": {},
   "outputs": [
    {
     "data": {
      "text/plain": [
       "array([[0.42394822],\n",
       "       [0.39805825],\n",
       "       [0.42071197],\n",
       "       [0.51779935],\n",
       "       [0.6407767 ],\n",
       "       [0.61165049],\n",
       "       [0.50161812],\n",
       "       [0.40453074],\n",
       "       [0.32038835],\n",
       "       [0.40453074],\n",
       "       [0.44660194],\n",
       "       [0.41747573],\n",
       "       [0.52750809],\n",
       "       [0.53398058],\n",
       "       [0.53721683],\n",
       "       [0.6828479 ],\n",
       "       [0.84142395],\n",
       "       [0.78640777],\n",
       "       [0.67313916],\n",
       "       [0.55016181],\n",
       "       [0.43042071],\n",
       "       [0.5631068 ],\n",
       "       [0.58252427],\n",
       "       [0.55987055],\n",
       "       [0.68932039],\n",
       "       [0.6763754 ],\n",
       "       [0.69255663],\n",
       "       [0.87378641],\n",
       "       [1.        ],\n",
       "       [0.97411003],\n",
       "       [0.81229773],\n",
       "       [0.65372168],\n",
       "       [0.54045307],\n",
       "       [0.65372168]])"
      ]
     },
     "execution_count": 37,
     "metadata": {},
     "output_type": "execute_result"
    }
   ],
   "source": [
    "test_data"
   ]
  },
  {
   "cell_type": "code",
   "execution_count": 38,
   "id": "44461d48",
   "metadata": {},
   "outputs": [],
   "source": [
    "import numpy as np\n",
    "# convert an array of values into a dataset matrix\n",
    "def create_dataset(dataset, time_step=1):\n",
    "\tdataX, dataY = [], []\n",
    "\tfor i in range(len(dataset)-time_step-1):\n",
    "\t\ta = dataset[i:(i+time_step), 0]   ###i=0, 0,1,2,3\n",
    "\t\tdataX.append(a)\n",
    "\t\tdataY.append(dataset[i + time_step, 0])\n",
    "\treturn np.array(dataX), np.array(dataY)"
   ]
  },
  {
   "cell_type": "code",
   "execution_count": 39,
   "id": "df7d6b44",
   "metadata": {},
   "outputs": [],
   "source": [
    "time_step = 4\n",
    "X_train, y_train = create_dataset(train_data, time_step)\n",
    "X_test, ytest = create_dataset(test_data, time_step)"
   ]
  },
  {
   "cell_type": "code",
   "execution_count": 40,
   "id": "c115057b",
   "metadata": {},
   "outputs": [
    {
     "data": {
      "text/plain": [
       "((57, 4), (57,))"
      ]
     },
     "execution_count": 40,
     "metadata": {},
     "output_type": "execute_result"
    }
   ],
   "source": [
    "X_train.shape, y_train.shape"
   ]
  },
  {
   "cell_type": "code",
   "execution_count": 41,
   "id": "3d7834d9",
   "metadata": {},
   "outputs": [],
   "source": [
    "import numpy as np\n",
    "# reshape input to be [samples, time steps, features] which is required for LSTM\n",
    "X_train =X_train.reshape(X_train.shape[0], 4, 1)\n",
    "X_test = X_test.reshape(X_test.shape[0], 4, 1)"
   ]
  },
  {
   "cell_type": "code",
   "execution_count": 42,
   "id": "4d1d267d",
   "metadata": {},
   "outputs": [
    {
     "data": {
      "text/plain": [
       "(57, 4, 1)"
      ]
     },
     "execution_count": 42,
     "metadata": {},
     "output_type": "execute_result"
    }
   ],
   "source": [
    "X_train.shape"
   ]
  },
  {
   "cell_type": "code",
   "execution_count": 43,
   "id": "c51a8575",
   "metadata": {},
   "outputs": [],
   "source": [
    "from tensorflow.keras.models import Sequential\n",
    "from tensorflow.keras.layers import Dense\n",
    "from tensorflow.keras.layers import LSTM"
   ]
  },
  {
   "cell_type": "code",
   "execution_count": 45,
   "id": "9746d212",
   "metadata": {},
   "outputs": [
    {
     "name": "stdout",
     "output_type": "stream",
     "text": [
      "Epoch 1/100\n",
      "57/57 [==============================] - 6s 18ms/step - loss: 0.0194 - val_loss: 0.0738\n",
      "Epoch 2/100\n",
      "57/57 [==============================] - 0s 3ms/step - loss: 0.0091 - val_loss: 0.0369\n",
      "Epoch 3/100\n",
      "57/57 [==============================] - 0s 3ms/step - loss: 0.0082 - val_loss: 0.0310\n",
      "Epoch 4/100\n",
      "57/57 [==============================] - 0s 3ms/step - loss: 0.0086 - val_loss: 0.0463\n",
      "Epoch 5/100\n",
      "57/57 [==============================] - 0s 3ms/step - loss: 0.0081 - val_loss: 0.0356\n",
      "Epoch 6/100\n",
      "57/57 [==============================] - 0s 3ms/step - loss: 0.0078 - val_loss: 0.0350\n",
      "Epoch 7/100\n",
      "57/57 [==============================] - 0s 3ms/step - loss: 0.0079 - val_loss: 0.0277\n",
      "Epoch 8/100\n",
      "57/57 [==============================] - 0s 3ms/step - loss: 0.0096 - val_loss: 0.0363\n",
      "Epoch 9/100\n",
      "57/57 [==============================] - 0s 3ms/step - loss: 0.0079 - val_loss: 0.0455\n",
      "Epoch 10/100\n",
      "57/57 [==============================] - 0s 3ms/step - loss: 0.0074 - val_loss: 0.0392\n",
      "Epoch 11/100\n",
      "57/57 [==============================] - 0s 3ms/step - loss: 0.0074 - val_loss: 0.0469\n",
      "Epoch 12/100\n",
      "57/57 [==============================] - 0s 3ms/step - loss: 0.0071 - val_loss: 0.0247\n",
      "Epoch 13/100\n",
      "57/57 [==============================] - 0s 3ms/step - loss: 0.0067 - val_loss: 0.0325\n",
      "Epoch 14/100\n",
      "57/57 [==============================] - 0s 3ms/step - loss: 0.0068 - val_loss: 0.0241\n",
      "Epoch 15/100\n",
      "57/57 [==============================] - 0s 3ms/step - loss: 0.0071 - val_loss: 0.0259\n",
      "Epoch 16/100\n",
      "57/57 [==============================] - 0s 3ms/step - loss: 0.0075 - val_loss: 0.0426\n",
      "Epoch 17/100\n",
      "57/57 [==============================] - 0s 3ms/step - loss: 0.0063 - val_loss: 0.0289\n",
      "Epoch 18/100\n",
      "57/57 [==============================] - 0s 3ms/step - loss: 0.0065 - val_loss: 0.0242\n",
      "Epoch 19/100\n",
      "57/57 [==============================] - 0s 3ms/step - loss: 0.0064 - val_loss: 0.0324\n",
      "Epoch 20/100\n",
      "57/57 [==============================] - 0s 3ms/step - loss: 0.0056 - val_loss: 0.0344\n",
      "Epoch 21/100\n",
      "57/57 [==============================] - 0s 3ms/step - loss: 0.0054 - val_loss: 0.0294\n",
      "Epoch 22/100\n",
      "57/57 [==============================] - 0s 3ms/step - loss: 0.0059 - val_loss: 0.0273\n",
      "Epoch 23/100\n",
      "57/57 [==============================] - 0s 3ms/step - loss: 0.0057 - val_loss: 0.0189\n",
      "Epoch 24/100\n",
      "57/57 [==============================] - 0s 3ms/step - loss: 0.0048 - val_loss: 0.0230\n",
      "Epoch 25/100\n",
      "57/57 [==============================] - 0s 3ms/step - loss: 0.0041 - val_loss: 0.0119\n",
      "Epoch 26/100\n",
      "57/57 [==============================] - 0s 3ms/step - loss: 0.0044 - val_loss: 0.0097\n",
      "Epoch 27/100\n",
      "57/57 [==============================] - 0s 3ms/step - loss: 0.0039 - val_loss: 0.0119\n",
      "Epoch 28/100\n",
      "57/57 [==============================] - 0s 3ms/step - loss: 0.0043 - val_loss: 0.0090\n",
      "Epoch 29/100\n",
      "57/57 [==============================] - 0s 3ms/step - loss: 0.0041 - val_loss: 0.0115\n",
      "Epoch 30/100\n",
      "57/57 [==============================] - 0s 3ms/step - loss: 0.0037 - val_loss: 0.0198\n",
      "Epoch 31/100\n",
      "57/57 [==============================] - 0s 3ms/step - loss: 0.0032 - val_loss: 0.0088\n",
      "Epoch 32/100\n",
      "57/57 [==============================] - 0s 3ms/step - loss: 0.0034 - val_loss: 0.0070\n",
      "Epoch 33/100\n",
      "57/57 [==============================] - 0s 3ms/step - loss: 0.0039 - val_loss: 0.0076\n",
      "Epoch 34/100\n",
      "57/57 [==============================] - 0s 3ms/step - loss: 0.0033 - val_loss: 0.0082\n",
      "Epoch 35/100\n",
      "57/57 [==============================] - 0s 3ms/step - loss: 0.0033 - val_loss: 0.0087\n",
      "Epoch 36/100\n",
      "57/57 [==============================] - 0s 3ms/step - loss: 0.0033 - val_loss: 0.0083\n",
      "Epoch 37/100\n",
      "57/57 [==============================] - 0s 3ms/step - loss: 0.0043 - val_loss: 0.0102\n",
      "Epoch 38/100\n",
      "57/57 [==============================] - 0s 3ms/step - loss: 0.0032 - val_loss: 0.0163\n",
      "Epoch 39/100\n",
      "57/57 [==============================] - 0s 3ms/step - loss: 0.0033 - val_loss: 0.0093\n",
      "Epoch 40/100\n",
      "57/57 [==============================] - 0s 3ms/step - loss: 0.0035 - val_loss: 0.0171\n",
      "Epoch 41/100\n",
      "57/57 [==============================] - 0s 3ms/step - loss: 0.0029 - val_loss: 0.0077\n",
      "Epoch 42/100\n",
      "57/57 [==============================] - 0s 3ms/step - loss: 0.0032 - val_loss: 0.0108\n",
      "Epoch 43/100\n",
      "57/57 [==============================] - 0s 3ms/step - loss: 0.0031 - val_loss: 0.0071\n",
      "Epoch 44/100\n",
      "57/57 [==============================] - 0s 3ms/step - loss: 0.0036 - val_loss: 0.0133\n",
      "Epoch 45/100\n",
      "57/57 [==============================] - 0s 3ms/step - loss: 0.0034 - val_loss: 0.0205\n",
      "Epoch 46/100\n",
      "57/57 [==============================] - 0s 3ms/step - loss: 0.0029 - val_loss: 0.0089\n",
      "Epoch 47/100\n",
      "57/57 [==============================] - 0s 3ms/step - loss: 0.0032 - val_loss: 0.0071\n",
      "Epoch 48/100\n",
      "57/57 [==============================] - 0s 3ms/step - loss: 0.0038 - val_loss: 0.0075\n",
      "Epoch 49/100\n",
      "57/57 [==============================] - 0s 3ms/step - loss: 0.0030 - val_loss: 0.0195\n",
      "Epoch 50/100\n",
      "57/57 [==============================] - 0s 3ms/step - loss: 0.0031 - val_loss: 0.0084\n",
      "Epoch 51/100\n",
      "57/57 [==============================] - 0s 3ms/step - loss: 0.0036 - val_loss: 0.0142\n",
      "Epoch 52/100\n",
      "57/57 [==============================] - 0s 3ms/step - loss: 0.0031 - val_loss: 0.0131\n",
      "Epoch 53/100\n",
      "57/57 [==============================] - 0s 3ms/step - loss: 0.0031 - val_loss: 0.0133\n",
      "Epoch 54/100\n",
      "57/57 [==============================] - 0s 3ms/step - loss: 0.0030 - val_loss: 0.0129\n",
      "Epoch 55/100\n",
      "57/57 [==============================] - 0s 3ms/step - loss: 0.0032 - val_loss: 0.0083\n",
      "Epoch 56/100\n",
      "57/57 [==============================] - 0s 3ms/step - loss: 0.0037 - val_loss: 0.0112\n",
      "Epoch 57/100\n",
      "57/57 [==============================] - 0s 3ms/step - loss: 0.0030 - val_loss: 0.0114\n",
      "Epoch 58/100\n",
      "57/57 [==============================] - 0s 3ms/step - loss: 0.0030 - val_loss: 0.0159\n",
      "Epoch 59/100\n",
      "57/57 [==============================] - 0s 3ms/step - loss: 0.0031 - val_loss: 0.0069\n",
      "Epoch 60/100\n",
      "57/57 [==============================] - 0s 3ms/step - loss: 0.0035 - val_loss: 0.0095\n",
      "Epoch 61/100\n",
      "57/57 [==============================] - 0s 3ms/step - loss: 0.0033 - val_loss: 0.0131\n",
      "Epoch 62/100\n",
      "57/57 [==============================] - 0s 3ms/step - loss: 0.0029 - val_loss: 0.0143\n",
      "Epoch 63/100\n",
      "57/57 [==============================] - 0s 3ms/step - loss: 0.0031 - val_loss: 0.0135\n",
      "Epoch 64/100\n",
      "57/57 [==============================] - 0s 3ms/step - loss: 0.0029 - val_loss: 0.0177\n",
      "Epoch 65/100\n",
      "57/57 [==============================] - 0s 3ms/step - loss: 0.0030 - val_loss: 0.0089\n",
      "Epoch 66/100\n",
      "57/57 [==============================] - 0s 3ms/step - loss: 0.0030 - val_loss: 0.0123\n",
      "Epoch 67/100\n",
      "57/57 [==============================] - 0s 3ms/step - loss: 0.0031 - val_loss: 0.0086\n",
      "Epoch 68/100\n",
      "57/57 [==============================] - 0s 3ms/step - loss: 0.0031 - val_loss: 0.0095\n",
      "Epoch 69/100\n",
      "57/57 [==============================] - 0s 3ms/step - loss: 0.0029 - val_loss: 0.0084\n",
      "Epoch 70/100\n",
      "57/57 [==============================] - 0s 3ms/step - loss: 0.0033 - val_loss: 0.0118\n",
      "Epoch 71/100\n",
      "57/57 [==============================] - 0s 3ms/step - loss: 0.0031 - val_loss: 0.0156\n",
      "Epoch 72/100\n",
      "57/57 [==============================] - 0s 3ms/step - loss: 0.0030 - val_loss: 0.0127\n",
      "Epoch 73/100\n",
      "57/57 [==============================] - 0s 3ms/step - loss: 0.0037 - val_loss: 0.0120\n",
      "Epoch 74/100\n",
      "57/57 [==============================] - 0s 3ms/step - loss: 0.0032 - val_loss: 0.0090\n",
      "Epoch 75/100\n",
      "57/57 [==============================] - 0s 3ms/step - loss: 0.0032 - val_loss: 0.0178\n",
      "Epoch 76/100\n",
      "57/57 [==============================] - 0s 3ms/step - loss: 0.0031 - val_loss: 0.0113\n",
      "Epoch 77/100\n",
      "57/57 [==============================] - 0s 3ms/step - loss: 0.0031 - val_loss: 0.0093\n",
      "Epoch 78/100\n",
      "57/57 [==============================] - 0s 3ms/step - loss: 0.0031 - val_loss: 0.0108\n",
      "Epoch 79/100\n",
      "57/57 [==============================] - 0s 3ms/step - loss: 0.0028 - val_loss: 0.0081\n",
      "Epoch 80/100\n",
      "57/57 [==============================] - 0s 3ms/step - loss: 0.0032 - val_loss: 0.0120\n",
      "Epoch 81/100\n",
      "57/57 [==============================] - 0s 3ms/step - loss: 0.0031 - val_loss: 0.0170\n",
      "Epoch 82/100\n",
      "57/57 [==============================] - 0s 3ms/step - loss: 0.0033 - val_loss: 0.0132\n",
      "Epoch 83/100\n",
      "57/57 [==============================] - 0s 3ms/step - loss: 0.0028 - val_loss: 0.0135\n",
      "Epoch 84/100\n",
      "57/57 [==============================] - 0s 3ms/step - loss: 0.0032 - val_loss: 0.0188\n",
      "Epoch 85/100\n",
      "57/57 [==============================] - 0s 3ms/step - loss: 0.0031 - val_loss: 0.0081\n",
      "Epoch 86/100\n",
      "57/57 [==============================] - 0s 3ms/step - loss: 0.0034 - val_loss: 0.0100\n",
      "Epoch 87/100\n",
      "57/57 [==============================] - 0s 3ms/step - loss: 0.0036 - val_loss: 0.0213\n",
      "Epoch 88/100\n",
      "57/57 [==============================] - 0s 3ms/step - loss: 0.0027 - val_loss: 0.0102\n",
      "Epoch 89/100\n",
      "57/57 [==============================] - 0s 3ms/step - loss: 0.0030 - val_loss: 0.0100\n",
      "Epoch 90/100\n",
      "57/57 [==============================] - 0s 3ms/step - loss: 0.0029 - val_loss: 0.0093\n",
      "Epoch 91/100\n",
      "57/57 [==============================] - 0s 3ms/step - loss: 0.0028 - val_loss: 0.0080\n",
      "Epoch 92/100\n",
      "57/57 [==============================] - 0s 3ms/step - loss: 0.0036 - val_loss: 0.0119\n",
      "Epoch 93/100\n",
      "57/57 [==============================] - 0s 3ms/step - loss: 0.0030 - val_loss: 0.0187\n",
      "Epoch 94/100\n",
      "57/57 [==============================] - 0s 3ms/step - loss: 0.0031 - val_loss: 0.0141\n",
      "Epoch 95/100\n",
      "57/57 [==============================] - 0s 3ms/step - loss: 0.0029 - val_loss: 0.0158\n",
      "Epoch 96/100\n",
      "57/57 [==============================] - 0s 3ms/step - loss: 0.0031 - val_loss: 0.0098\n",
      "Epoch 97/100\n",
      "57/57 [==============================] - 0s 3ms/step - loss: 0.0028 - val_loss: 0.0119\n",
      "Epoch 98/100\n",
      "57/57 [==============================] - 0s 3ms/step - loss: 0.0029 - val_loss: 0.0114\n",
      "Epoch 99/100\n",
      "57/57 [==============================] - 0s 3ms/step - loss: 0.0027 - val_loss: 0.0082\n",
      "Epoch 100/100\n",
      "57/57 [==============================] - 0s 3ms/step - loss: 0.0031 - val_loss: 0.0187\n"
     ]
    },
    {
     "data": {
      "text/plain": [
       "<keras.callbacks.History at 0x1a69937af10>"
      ]
     },
     "execution_count": 45,
     "metadata": {},
     "output_type": "execute_result"
    }
   ],
   "source": [
    "model=Sequential()\n",
    "model.add(LSTM(50,return_sequences=True,input_shape=(4,1)))\n",
    "model.add(LSTM(50))\n",
    "model.add(Dense(1))\n",
    "model.compile(loss='mean_squared_error',optimizer='adam')\n",
    "model.fit(X_train,y_train,validation_data=(X_test,ytest),epochs=100,batch_size=1,verbose =1)"
   ]
  },
  {
   "cell_type": "code",
   "execution_count": 46,
   "id": "0e73645f",
   "metadata": {},
   "outputs": [
    {
     "name": "stdout",
     "output_type": "stream",
     "text": [
      "2/2 [==============================] - 1s 4ms/step\n",
      "1/1 [==============================] - 0s 18ms/step\n"
     ]
    }
   ],
   "source": [
    "train_predict=model.predict(X_train)\n",
    "test_predict=model.predict(X_test)"
   ]
  },
  {
   "cell_type": "code",
   "execution_count": 47,
   "id": "38ec0d04",
   "metadata": {},
   "outputs": [
    {
     "data": {
      "text/plain": [
       "array([[0.507175  ],\n",
       "       [0.6034669 ],\n",
       "       [0.4795796 ],\n",
       "       [0.35942605],\n",
       "       [0.34470937],\n",
       "       [0.30993748],\n",
       "       [0.42542177],\n",
       "       [0.44046837],\n",
       "       [0.35760057],\n",
       "       [0.50542927],\n",
       "       [0.4798051 ],\n",
       "       [0.44704476],\n",
       "       [0.64238894],\n",
       "       [0.76454335],\n",
       "       [0.54259014],\n",
       "       [0.43909332],\n",
       "       [0.43493366],\n",
       "       [0.37798616],\n",
       "       [0.57671314],\n",
       "       [0.5458673 ],\n",
       "       [0.4416783 ],\n",
       "       [0.6328246 ],\n",
       "       [0.5626446 ],\n",
       "       [0.53961486],\n",
       "       [0.7917476 ],\n",
       "       [0.82795167],\n",
       "       [0.6389687 ],\n",
       "       [0.49073842],\n",
       "       [0.46735075]], dtype=float32)"
      ]
     },
     "execution_count": 47,
     "metadata": {},
     "output_type": "execute_result"
    }
   ],
   "source": [
    "test_predict"
   ]
  },
  {
   "cell_type": "code",
   "execution_count": 48,
   "id": "68c1b64e",
   "metadata": {},
   "outputs": [],
   "source": [
    "train_predict=scaler.inverse_transform(train_predict)\n",
    "test_predict=scaler.inverse_transform(test_predict)"
   ]
  },
  {
   "cell_type": "code",
   "execution_count": 49,
   "id": "bc7039cc",
   "metadata": {},
   "outputs": [
    {
     "data": {
      "text/plain": [
       "array([[260.7171 ],\n",
       "       [290.47128],\n",
       "       [252.1901 ],\n",
       "       [215.06265],\n",
       "       [210.5152 ],\n",
       "       [199.77069],\n",
       "       [235.45534],\n",
       "       [240.10474],\n",
       "       [214.49858],\n",
       "       [260.17764],\n",
       "       [252.25978],\n",
       "       [242.13683],\n",
       "       [302.4982 ],\n",
       "       [340.2439 ],\n",
       "       [271.66037],\n",
       "       [239.67984],\n",
       "       [238.39452],\n",
       "       [220.79773],\n",
       "       [282.20438],\n",
       "       [272.673  ],\n",
       "       [240.47859],\n",
       "       [299.54282],\n",
       "       [277.85718],\n",
       "       [270.741  ],\n",
       "       [348.65002],\n",
       "       [359.83707],\n",
       "       [301.44135],\n",
       "       [255.63817],\n",
       "       [248.41138]], dtype=float32)"
      ]
     },
     "execution_count": 49,
     "metadata": {},
     "output_type": "execute_result"
    }
   ],
   "source": [
    "test_predict"
   ]
  },
  {
   "cell_type": "code",
   "execution_count": 50,
   "id": "b382c288",
   "metadata": {},
   "outputs": [
    {
     "data": {
      "text/plain": [
       "((57,),\n",
       " (57, 1),\n",
       " array([[134.1908  ],\n",
       "        [127.97849 ],\n",
       "        [143.759   ],\n",
       "        [154.04915 ],\n",
       "        [151.32574 ],\n",
       "        [140.4662  ],\n",
       "        [127.56586 ],\n",
       "        [116.150696],\n",
       "        [129.27534 ],\n",
       "        [122.542465],\n",
       "        [133.24586 ],\n",
       "        [147.2483  ],\n",
       "        [138.98738 ],\n",
       "        [131.61487 ],\n",
       "        [158.0057  ],\n",
       "        [175.0972  ],\n",
       "        [169.31175 ],\n",
       "        [158.16705 ],\n",
       "        [138.2042  ],\n",
       "        [125.67576 ],\n",
       "        [151.89403 ],\n",
       "        [150.33832 ],\n",
       "        [153.56935 ],\n",
       "        [183.83867 ],\n",
       "        [161.31767 ],\n",
       "        [174.72513 ],\n",
       "        [182.23048 ],\n",
       "        [201.37032 ],\n",
       "        [195.41425 ],\n",
       "        [177.71153 ],\n",
       "        [162.30725 ],\n",
       "        [153.20567 ],\n",
       "        [176.20566 ],\n",
       "        [175.01373 ],\n",
       "        [181.10353 ],\n",
       "        [194.56012 ],\n",
       "        [177.22314 ],\n",
       "        [183.52184 ],\n",
       "        [224.25311 ],\n",
       "        [224.97115 ],\n",
       "        [229.18584 ],\n",
       "        [189.596   ],\n",
       "        [184.49445 ],\n",
       "        [176.40356 ],\n",
       "        [201.85025 ],\n",
       "        [196.79726 ],\n",
       "        [191.67294 ],\n",
       "        [239.56801 ],\n",
       "        [223.97598 ],\n",
       "        [210.87915 ],\n",
       "        [236.62389 ],\n",
       "        [256.6079  ],\n",
       "        [251.98674 ],\n",
       "        [205.21135 ],\n",
       "        [196.14774 ],\n",
       "        [180.62251 ],\n",
       "        [209.6771  ]], dtype=float32))"
      ]
     },
     "execution_count": 50,
     "metadata": {},
     "output_type": "execute_result"
    }
   ],
   "source": [
    "y_train.shape,train_predict.shape,train_predict"
   ]
  },
  {
   "cell_type": "code",
   "execution_count": 51,
   "id": "f3cc9647",
   "metadata": {},
   "outputs": [
    {
     "data": {
      "text/plain": [
       "178.38083251069992"
      ]
     },
     "execution_count": 51,
     "metadata": {},
     "output_type": "execute_result"
    }
   ],
   "source": [
    "import math\n",
    "from sklearn.metrics import mean_squared_error\n",
    "math.sqrt(mean_squared_error(y_train,train_predict))"
   ]
  },
  {
   "cell_type": "code",
   "execution_count": 52,
   "id": "4b60fcc5",
   "metadata": {},
   "outputs": [
    {
     "data": {
      "text/plain": [
       "265.92924719607396"
      ]
     },
     "execution_count": 52,
     "metadata": {},
     "output_type": "execute_result"
    }
   ],
   "source": [
    "math.sqrt(mean_squared_error(ytest,test_predict))"
   ]
  },
  {
   "cell_type": "code",
   "execution_count": 55,
   "id": "615a309b",
   "metadata": {},
   "outputs": [
    {
     "data": {
      "image/png": "[encoded data removed]",
      "text/plain": [
       "<Figure size 432x288 with 1 Axes>"
      ]
     },
     "metadata": {
      "needs_background": "light"
     },
     "output_type": "display_data"
    }
   ],
   "source": [
    "look_back=4\n",
    "trainPredictPlot = np.empty_like(airline)\n",
    "trainPredictPlot[:, :] = np.nan\n",
    "trainPredictPlot[look_back:len(train_predict)+look_back, :] = train_predict\n",
    "# shift test predictions for plotting\n",
    "testPredictPlot = np.empty_like(airline)\n",
    "testPredictPlot[:, :] = np.nan\n",
    "testPredictPlot[len(train_predict)+(look_back*2)+1:len(airline)-1, :] = test_predict\n",
    "# plot baseline and predictions\n",
    "plt.plot(scaler.inverse_transform(airline))\n",
    "plt.plot(trainPredictPlot)\n",
    "plt.plot(testPredictPlot)\n",
    "plt.show()"
   ]
  },
  {
   "cell_type": "code",
   "execution_count": null,
   "id": "0f1e7438",
   "metadata": {},
   "outputs": [],
   "source": []
  }
 ],
 "metadata": {
  "kernelspec": {
   "display_name": "Python 3 (ipykernel)",
   "language": "python",
   "name": "python3"
  },
  "language_info": {
   "codemirror_mode": {
    "name": "ipython",
    "version": 3
   },
   "file_extension": ".py",
   "mimetype": "text/x-python",
   "name": "python",
   "nbconvert_exporter": "python",
   "pygments_lexer": "ipython3",
   "version": "3.9.12"
  }
 },
 "nbformat": 4,
 "nbformat_minor": 5
}
